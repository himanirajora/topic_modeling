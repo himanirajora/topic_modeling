{
 "cells": [
  {
   "cell_type": "code",
   "execution_count": 1,
   "metadata": {
    "ExecuteTime": {
     "end_time": "2017-08-13T17:12:20.184593Z",
     "start_time": "2017-08-13T17:12:20.167726Z"
    },
    "collapsed": true
   },
   "outputs": [],
   "source": [
    "import os\n",
    "import requests\n",
    "import numpy as np\n",
    "import pandas as pd\n",
    "from requests.compat import urljoin\n",
    "\n",
    "# CONSTANTS\n",
    "\n",
    "IO_DIR = '/Users/himani/workspace/assignment/Smarkets'\n",
    "\n",
    "BASE_URL = 'http://smarkets.herokuapp.com/'\n",
    "RELATIVE_URLS = {\n",
    "    # Shows all users\n",
    "    'users_bulk': '/users',\n",
    "    \n",
    "    # Shows all affiliates\n",
    "    'affiliates_bulk': '/affiliates',\n",
    "    \n",
    "    # Data about betId. Sample betId: 111\n",
    "    'bet': '/bets/{betId}',\n",
    "    \n",
    "    # Data about affiliateId. Sample affiliateId: 8\n",
    "    'affiliate': '/affiliates/{affiliate_id}',\n",
    "    \n",
    "     # Data about userId. Sample userId: 1\n",
    "    'user': '/users/{userId}',\n",
    "    \n",
    "     # All bets by userId\n",
    "    'user_bets': '/users/{userId}/bets'\n",
    "}\n",
    "\n",
    "pd.set_option('display.max_rows', 50)\n",
    "pd.set_option('display.max_columns', 500)\n",
    "pd.set_option('display.width', 1000)\n",
    "pd.set_option('display.float_format', lambda x: '%.3f' % x)"
   ]
  },
  {
   "cell_type": "code",
   "execution_count": 2,
   "metadata": {
    "ExecuteTime": {
     "end_time": "2017-08-13T16:22:35.926345Z",
     "start_time": "2017-08-13T16:22:34.420900Z"
    },
    "collapsed": true
   },
   "outputs": [],
   "source": [
    "users_url = urljoin(BASE_URL, RELATIVE_URLS['users_bulk'])\n",
    "users_df = pd.DataFrame(requests.get(users_url).json())\n",
    "users_df.rename(columns={'id':'user_id'}, inplace=True)"
   ]
  },
  {
   "cell_type": "code",
   "execution_count": 3,
   "metadata": {},
   "outputs": [
    {
     "data": {
      "text/html": [
       "<div>\n",
       "<style>\n",
       "    .dataframe thead tr:only-child th {\n",
       "        text-align: right;\n",
       "    }\n",
       "\n",
       "    .dataframe thead th {\n",
       "        text-align: left;\n",
       "    }\n",
       "\n",
       "    .dataframe tbody tr th {\n",
       "        vertical-align: top;\n",
       "    }\n",
       "</style>\n",
       "<table border=\"1\" class=\"dataframe\">\n",
       "  <thead>\n",
       "    <tr style=\"text-align: right;\">\n",
       "      <th></th>\n",
       "      <th>affiliate_id</th>\n",
       "      <th>created</th>\n",
       "      <th>user_id</th>\n",
       "      <th>name</th>\n",
       "    </tr>\n",
       "  </thead>\n",
       "  <tbody>\n",
       "    <tr>\n",
       "      <th>0</th>\n",
       "      <td>4</td>\n",
       "      <td>2017-08-15T05:00:50.254547082Z</td>\n",
       "      <td>0</td>\n",
       "      <td>Amelia\\tChapman</td>\n",
       "    </tr>\n",
       "    <tr>\n",
       "      <th>1</th>\n",
       "      <td>8</td>\n",
       "      <td>2017-08-15T05:00:50.254547784Z</td>\n",
       "      <td>1</td>\n",
       "      <td>Angela\\tDowd</td>\n",
       "    </tr>\n",
       "    <tr>\n",
       "      <th>2</th>\n",
       "      <td>3</td>\n",
       "      <td>2017-08-15T05:00:50.254548261Z</td>\n",
       "      <td>2</td>\n",
       "      <td>Wanda\\tVance</td>\n",
       "    </tr>\n",
       "    <tr>\n",
       "      <th>3</th>\n",
       "      <td>1</td>\n",
       "      <td>2017-08-15T05:00:50.254548724Z</td>\n",
       "      <td>3</td>\n",
       "      <td>Ava\\tBaker</td>\n",
       "    </tr>\n",
       "    <tr>\n",
       "      <th>4</th>\n",
       "      <td>3</td>\n",
       "      <td>2017-08-15T05:00:50.254549194Z</td>\n",
       "      <td>4</td>\n",
       "      <td>Brandon\\tQuinn</td>\n",
       "    </tr>\n",
       "  </tbody>\n",
       "</table>\n",
       "</div>"
      ],
      "text/plain": [
       "   affiliate_id                         created  user_id             name\n",
       "0             4  2017-08-15T05:00:50.254547082Z        0  Amelia\\tChapman\n",
       "1             8  2017-08-15T05:00:50.254547784Z        1     Angela\\tDowd\n",
       "2             3  2017-08-15T05:00:50.254548261Z        2     Wanda\\tVance\n",
       "3             1  2017-08-15T05:00:50.254548724Z        3       Ava\\tBaker\n",
       "4             3  2017-08-15T05:00:50.254549194Z        4   Brandon\\tQuinn"
      ]
     },
     "execution_count": 3,
     "metadata": {},
     "output_type": "execute_result"
    }
   ],
   "source": [
    "users_df.head()"
   ]
  },
  {
   "cell_type": "code",
   "execution_count": 4,
   "metadata": {
    "ExecuteTime": {
     "end_time": "2017-08-13T16:22:26.186106Z",
     "start_time": "2017-08-13T16:22:25.162591Z"
    },
    "collapsed": true
   },
   "outputs": [],
   "source": [
    "affiliates_url = urljoin(BASE_URL, RELATIVE_URLS['affiliates_bulk'])\n",
    "affiliates_df = pd.DataFrame(requests.get(affiliates_url).json())\n",
    "affiliates_df.rename(columns={'id':'affiliate_id'}, inplace=True)"
   ]
  },
  {
   "cell_type": "code",
   "execution_count": 5,
   "metadata": {
    "ExecuteTime": {
     "end_time": "2017-08-13T16:22:42.676887Z",
     "start_time": "2017-08-13T16:22:42.668632Z"
    }
   },
   "outputs": [
    {
     "data": {
      "text/html": [
       "<div>\n",
       "<style>\n",
       "    .dataframe thead tr:only-child th {\n",
       "        text-align: right;\n",
       "    }\n",
       "\n",
       "    .dataframe thead th {\n",
       "        text-align: left;\n",
       "    }\n",
       "\n",
       "    .dataframe tbody tr th {\n",
       "        vertical-align: top;\n",
       "    }\n",
       "</style>\n",
       "<table border=\"1\" class=\"dataframe\">\n",
       "  <thead>\n",
       "    <tr style=\"text-align: right;\">\n",
       "      <th></th>\n",
       "      <th>affiliate_id</th>\n",
       "      <th>name</th>\n",
       "      <th>website</th>\n",
       "    </tr>\n",
       "  </thead>\n",
       "  <tbody>\n",
       "    <tr>\n",
       "      <th>0</th>\n",
       "      <td>0</td>\n",
       "      <td>Benjamin\\tHamilton</td>\n",
       "      <td>Dazzleverse.com</td>\n",
       "    </tr>\n",
       "    <tr>\n",
       "      <th>1</th>\n",
       "      <td>1</td>\n",
       "      <td>Brandon\\tSlater</td>\n",
       "      <td>Fliplounge.com</td>\n",
       "    </tr>\n",
       "    <tr>\n",
       "      <th>2</th>\n",
       "      <td>2</td>\n",
       "      <td>Julian\\tMorrison</td>\n",
       "      <td>Browseify.com</td>\n",
       "    </tr>\n",
       "    <tr>\n",
       "      <th>3</th>\n",
       "      <td>3</td>\n",
       "      <td>Evan\\tPoole</td>\n",
       "      <td>Playo.com</td>\n",
       "    </tr>\n",
       "    <tr>\n",
       "      <th>4</th>\n",
       "      <td>4</td>\n",
       "      <td>Michelle\\tParsons</td>\n",
       "      <td>Thoughtspot.com</td>\n",
       "    </tr>\n",
       "  </tbody>\n",
       "</table>\n",
       "</div>"
      ],
      "text/plain": [
       "   affiliate_id                name          website\n",
       "0             0  Benjamin\\tHamilton  Dazzleverse.com\n",
       "1             1     Brandon\\tSlater   Fliplounge.com\n",
       "2             2    Julian\\tMorrison    Browseify.com\n",
       "3             3         Evan\\tPoole        Playo.com\n",
       "4             4   Michelle\\tParsons  Thoughtspot.com"
      ]
     },
     "execution_count": 5,
     "metadata": {},
     "output_type": "execute_result"
    }
   ],
   "source": [
    "affiliates_df.head()"
   ]
  },
  {
   "cell_type": "code",
   "execution_count": 6,
   "metadata": {
    "ExecuteTime": {
     "end_time": "2017-08-13T16:58:37.367133Z",
     "start_time": "2017-08-13T16:52:27.256897Z"
    },
    "collapsed": true
   },
   "outputs": [],
   "source": [
    "bets_df = pd.DataFrame(columns = ['id', 'user_id', 'amount', 'percentage_odds', 'timestamp', 'result'])\n",
    "\n",
    "users_without_bets = []\n",
    "errors = []\n",
    "\n",
    "for user_id in list(users_df.user_id):\n",
    "    user_bets_url = urljoin(BASE_URL, RELATIVE_URLS['user_bets'].format(userId=user_id))\n",
    "    try:\n",
    "        response = requests.get(user_bets_url)\n",
    "        \n",
    "        # User not found (should not happen). Also, maybe when user has no bets.\n",
    "        response.raise_for_status()\n",
    "        \n",
    "        user_bets_df = pd.DataFrame(response.json())\n",
    "        \n",
    "        if len(user_bets_df):  \n",
    "            # This will handle a user without any bets, if the output is an empty list\n",
    "            bets_df = pd.concat([bets_df, user_bets_df])\n",
    "        else:\n",
    "            users_without_bets.append(user_id)\n",
    "        \n",
    "    except Exception as e:\n",
    "        errors.append(e)\n",
    "        pass\n",
    "\n",
    "bets_df.rename(columns={'id':'bet_id'}, inplace=True)"
   ]
  },
  {
   "cell_type": "code",
   "execution_count": 7,
   "metadata": {},
   "outputs": [
    {
     "name": "stdout",
     "output_type": "stream",
     "text": [
      "0\n",
      "0\n"
     ]
    }
   ],
   "source": [
    "print(len(users_without_bets))\n",
    "print(len(errors))"
   ]
  },
  {
   "cell_type": "code",
   "execution_count": 8,
   "metadata": {
    "ExecuteTime": {
     "end_time": "2017-08-13T17:00:41.245689Z",
     "start_time": "2017-08-13T17:00:41.235779Z"
    }
   },
   "outputs": [
    {
     "data": {
      "text/html": [
       "<div>\n",
       "<style>\n",
       "    .dataframe thead tr:only-child th {\n",
       "        text-align: right;\n",
       "    }\n",
       "\n",
       "    .dataframe thead th {\n",
       "        text-align: left;\n",
       "    }\n",
       "\n",
       "    .dataframe tbody tr th {\n",
       "        vertical-align: top;\n",
       "    }\n",
       "</style>\n",
       "<table border=\"1\" class=\"dataframe\">\n",
       "  <thead>\n",
       "    <tr style=\"text-align: right;\">\n",
       "      <th></th>\n",
       "      <th>amount</th>\n",
       "      <th>bet_id</th>\n",
       "      <th>percentage_odds</th>\n",
       "      <th>result</th>\n",
       "      <th>timestamp</th>\n",
       "      <th>user_id</th>\n",
       "    </tr>\n",
       "  </thead>\n",
       "  <tbody>\n",
       "    <tr>\n",
       "      <th>0</th>\n",
       "      <td>7.692</td>\n",
       "      <td>306</td>\n",
       "      <td>78</td>\n",
       "      <td>True</td>\n",
       "      <td>2017-08-15T05:00:50.255098631Z</td>\n",
       "      <td>0</td>\n",
       "    </tr>\n",
       "    <tr>\n",
       "      <th>1</th>\n",
       "      <td>1.204</td>\n",
       "      <td>309</td>\n",
       "      <td>41</td>\n",
       "      <td>True</td>\n",
       "      <td>2017-08-15T05:00:50.255100795Z</td>\n",
       "      <td>0</td>\n",
       "    </tr>\n",
       "    <tr>\n",
       "      <th>2</th>\n",
       "      <td>6.275</td>\n",
       "      <td>481</td>\n",
       "      <td>17</td>\n",
       "      <td>False</td>\n",
       "      <td>2017-08-15T05:00:50.255215107Z</td>\n",
       "      <td>0</td>\n",
       "    </tr>\n",
       "    <tr>\n",
       "      <th>3</th>\n",
       "      <td>4.556</td>\n",
       "      <td>658</td>\n",
       "      <td>58</td>\n",
       "      <td>True</td>\n",
       "      <td>2017-08-15T05:00:50.255340828Z</td>\n",
       "      <td>0</td>\n",
       "    </tr>\n",
       "    <tr>\n",
       "      <th>4</th>\n",
       "      <td>9.748</td>\n",
       "      <td>868</td>\n",
       "      <td>24</td>\n",
       "      <td>False</td>\n",
       "      <td>2017-08-15T05:00:50.255479307Z</td>\n",
       "      <td>0</td>\n",
       "    </tr>\n",
       "  </tbody>\n",
       "</table>\n",
       "</div>"
      ],
      "text/plain": [
       "   amount bet_id percentage_odds result                       timestamp user_id\n",
       "0   7.692    306              78   True  2017-08-15T05:00:50.255098631Z       0\n",
       "1   1.204    309              41   True  2017-08-15T05:00:50.255100795Z       0\n",
       "2   6.275    481              17  False  2017-08-15T05:00:50.255215107Z       0\n",
       "3   4.556    658              58   True  2017-08-15T05:00:50.255340828Z       0\n",
       "4   9.748    868              24  False  2017-08-15T05:00:50.255479307Z       0"
      ]
     },
     "execution_count": 8,
     "metadata": {},
     "output_type": "execute_result"
    }
   ],
   "source": [
    "bets_df.head()"
   ]
  },
  {
   "cell_type": "code",
   "execution_count": 9,
   "metadata": {
    "ExecuteTime": {
     "end_time": "2017-08-13T17:13:23.534770Z",
     "start_time": "2017-08-13T17:13:23.481762Z"
    },
    "collapsed": true
   },
   "outputs": [],
   "source": [
    "# Save data to local for further analysis\n",
    "\n",
    "users_df.to_csv(os.path.join(IO_DIR, 'users.csv'))\n",
    "affiliates_df.to_csv(os.path.join(IO_DIR, 'affiliates.csv'))\n",
    "bets_df.to_csv(os.path.join(IO_DIR, 'bets.csv'))"
   ]
  },
  {
   "cell_type": "code",
   "execution_count": 2,
   "metadata": {
    "collapsed": true
   },
   "outputs": [],
   "source": [
    "# users_df = pd.read_csv(os.path.join(IO_DIR, 'users.csv'))\n",
    "# affiliates_df = pd.read_csv(os.path.join(IO_DIR, 'affiliates.csv'))\n",
    "# bets_df = pd.read_csv(os.path.join(IO_DIR, 'bets.csv'))"
   ]
  },
  {
   "cell_type": "markdown",
   "metadata": {},
   "source": [
    "## 1. Find the affiliate with the maximum number of users."
   ]
  },
  {
   "cell_type": "code",
   "execution_count": 8,
   "metadata": {
    "ExecuteTime": {
     "end_time": "2017-08-13T17:20:13.126022Z",
     "start_time": "2017-08-13T17:20:13.119840Z"
    }
   },
   "outputs": [
    {
     "data": {
      "text/plain": [
       "1"
      ]
     },
     "execution_count": 8,
     "metadata": {},
     "output_type": "execute_result"
    }
   ],
   "source": [
    "users_df.groupby('affiliate_id').aggregate('count')['user_id'].idxmax()"
   ]
  },
  {
   "cell_type": "markdown",
   "metadata": {},
   "source": [
    "*******************************************************************************************************************\n",
    "\n",
    "\n",
    "## 2. Find the amount won by users coming through the top 3 affiliates - by user_count.\n"
   ]
  },
  {
   "cell_type": "code",
   "execution_count": 9,
   "metadata": {
    "ExecuteTime": {
     "end_time": "2017-08-13T17:23:56.142399Z",
     "start_time": "2017-08-13T17:23:56.136887Z"
    },
    "collapsed": true
   },
   "outputs": [],
   "source": [
    "top_3_affiliates = list(users_df.groupby('affiliate_id').aggregate('count')['user_id'].sort_values(ascending=False)[:3].index)"
   ]
  },
  {
   "cell_type": "code",
   "execution_count": 10,
   "metadata": {
    "ExecuteTime": {
     "end_time": "2017-08-13T17:29:55.964562Z",
     "start_time": "2017-08-13T17:29:55.959433Z"
    }
   },
   "outputs": [
    {
     "data": {
      "text/plain": [
       "164"
      ]
     },
     "execution_count": 10,
     "metadata": {},
     "output_type": "execute_result"
    }
   ],
   "source": [
    "users_of_top_3_affiliates = list(users_df[users_df['affiliate_id'].isin(top_3_affiliates)]['user_id'])\n",
    "len(users_of_top_3_affiliates)"
   ]
  },
  {
   "cell_type": "code",
   "execution_count": 11,
   "metadata": {
    "ExecuteTime": {
     "end_time": "2017-08-13T17:33:24.607511Z",
     "start_time": "2017-08-13T17:33:24.595857Z"
    }
   },
   "outputs": [
    {
     "data": {
      "text/plain": [
       "4432.8805185469992"
      ]
     },
     "execution_count": 11,
     "metadata": {},
     "output_type": "execute_result"
    }
   ],
   "source": [
    "bets_df[(bets_df['user_id'].isin(users_of_top_3_affiliates)) & (bets_df['result']==True)]['amount'].sum()"
   ]
  },
  {
   "cell_type": "markdown",
   "metadata": {},
   "source": [
    "## 3. What is the percentage of users who have won 2 or more bets with low odds - say 25%.\n"
   ]
  },
  {
   "cell_type": "code",
   "execution_count": 14,
   "metadata": {
    "ExecuteTime": {
     "end_time": "2017-08-13T17:41:14.575399Z",
     "start_time": "2017-08-13T17:41:14.565923Z"
    },
    "collapsed": true
   },
   "outputs": [],
   "source": [
    "users_won_low_odds_df = bets_df[(bets_df['result']==True) & (bets_df['percentage_odds'] < 25)].groupby('user_id').aggregate('count')\n",
    "users_won_low_odds = users_won_low_odds_df[users_won_low_odds_df['bet_id'] >= 2].index.tolist()"
   ]
  },
  {
   "cell_type": "code",
   "execution_count": 15,
   "metadata": {
    "ExecuteTime": {
     "end_time": "2017-08-13T17:44:49.730293Z",
     "start_time": "2017-08-13T17:44:49.726745Z"
    }
   },
   "outputs": [
    {
     "name": "stdout",
     "output_type": "stream",
     "text": [
      "2.8\n"
     ]
    }
   ],
   "source": [
    "print(len(users_won_low_odds)*100/len(users_df))"
   ]
  }
 ],
 "metadata": {
  "kernelspec": {
   "display_name": "Python 3",
   "language": "python",
   "name": "python3"
  },
  "language_info": {
   "codemirror_mode": {
    "name": "ipython",
    "version": 3
   },
   "file_extension": ".py",
   "mimetype": "text/x-python",
   "name": "python",
   "nbconvert_exporter": "python",
   "pygments_lexer": "ipython3",
   "version": "3.5.2"
  }
 },
 "nbformat": 4,
 "nbformat_minor": 1
}
