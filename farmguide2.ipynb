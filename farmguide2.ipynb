{
 "cells": [
  {
   "cell_type": "markdown",
   "metadata": {},
   "source": [
    "#### Problem Statement: Topic Modeling\n",
    "\n",
    "Extract relevant words to identify the business a company is engaged in, depending on the description."
   ]
  },
  {
   "cell_type": "code",
   "execution_count": 147,
   "metadata": {
    "collapsed": true
   },
   "outputs": [],
   "source": [
    "import pandas as pd\n",
    "import numpy as np\n",
    "import nltk\n",
    "from nltk.corpus import stopwords\n",
    "from nltk.stem.wordnet import WordNetLemmatizer\n",
    "from nltk.tag import pos_tag\n",
    "import string\n",
    "import gensim\n",
    "from gensim import corpora\n",
    "import pickle as pkl"
   ]
  },
  {
   "cell_type": "code",
   "execution_count": 148,
   "metadata": {
    "collapsed": true
   },
   "outputs": [],
   "source": [
    "# read json file into dataframe\n",
    "\n",
    "df = pd.read_json('data.json')"
   ]
  },
  {
   "cell_type": "code",
   "execution_count": 149,
   "metadata": {
    "collapsed": true
   },
   "outputs": [],
   "source": [
    "# removing newline character \\n at the beginning of each line in about column\n",
    "\n",
    "df['about'] = df['about'].apply(lambda x: x[1:])"
   ]
  },
  {
   "cell_type": "code",
   "execution_count": 150,
   "metadata": {},
   "outputs": [
    {
     "data": {
      "text/html": [
       "<div>\n",
       "<style>\n",
       "    .dataframe thead tr:only-child th {\n",
       "        text-align: right;\n",
       "    }\n",
       "\n",
       "    .dataframe thead th {\n",
       "        text-align: left;\n",
       "    }\n",
       "\n",
       "    .dataframe tbody tr th {\n",
       "        vertical-align: top;\n",
       "    }\n",
       "</style>\n",
       "<table border=\"1\" class=\"dataframe\">\n",
       "  <thead>\n",
       "    <tr style=\"text-align: right;\">\n",
       "      <th></th>\n",
       "      <th>about</th>\n",
       "      <th>title</th>\n",
       "    </tr>\n",
       "  </thead>\n",
       "  <tbody>\n",
       "    <tr>\n",
       "      <th>0</th>\n",
       "      <td>ASKPL (erstwhile KE Technical Textiles Pvt Ltd...</td>\n",
       "      <td>Amer-Sil Ketex Private Limited</td>\n",
       "    </tr>\n",
       "    <tr>\n",
       "      <th>1</th>\n",
       "      <td>Set up in 2016, AA is setting up a non-basmati...</td>\n",
       "      <td>Amrit Agro</td>\n",
       "    </tr>\n",
       "    <tr>\n",
       "      <th>2</th>\n",
       "      <td>5 Core is part of the Five Core group, which m...</td>\n",
       "      <td>5 Core Acoustics Private Limited</td>\n",
       "    </tr>\n",
       "    <tr>\n",
       "      <th>3</th>\n",
       "      <td>Incorporated in 1986 as Vora Packaging Private...</td>\n",
       "      <td>3D Technopack Limited</td>\n",
       "    </tr>\n",
       "    <tr>\n",
       "      <th>4</th>\n",
       "      <td>Established in May, 2015, 2Getherments Infra P...</td>\n",
       "      <td>2Getherments Infra Private Limited</td>\n",
       "    </tr>\n",
       "  </tbody>\n",
       "</table>\n",
       "</div>"
      ],
      "text/plain": [
       "                                               about  \\\n",
       "0  ASKPL (erstwhile KE Technical Textiles Pvt Ltd...   \n",
       "1  Set up in 2016, AA is setting up a non-basmati...   \n",
       "2  5 Core is part of the Five Core group, which m...   \n",
       "3  Incorporated in 1986 as Vora Packaging Private...   \n",
       "4  Established in May, 2015, 2Getherments Infra P...   \n",
       "\n",
       "                                 title  \n",
       "0      Amer-Sil Ketex Private Limited   \n",
       "1                          Amrit Agro   \n",
       "2    5 Core Acoustics Private Limited   \n",
       "3               3D Technopack Limited   \n",
       "4  2Getherments Infra Private Limited   "
      ]
     },
     "execution_count": 150,
     "metadata": {},
     "output_type": "execute_result"
    }
   ],
   "source": [
    "df.head()"
   ]
  },
  {
   "cell_type": "code",
   "execution_count": 151,
   "metadata": {},
   "outputs": [
    {
     "name": "stdout",
     "output_type": "stream",
     "text": [
      "[nltk_data] Downloading package stopwords to\n",
      "[nltk_data]     /Users/himani/nltk_data...\n",
      "[nltk_data]   Package stopwords is already up-to-date!\n",
      "[nltk_data] Downloading package wordnet to /Users/himani/nltk_data...\n",
      "[nltk_data]   Package wordnet is already up-to-date!\n"
     ]
    },
    {
     "data": {
      "text/plain": [
       "True"
      ]
     },
     "execution_count": 151,
     "metadata": {},
     "output_type": "execute_result"
    }
   ],
   "source": [
    "# download stopwords and wordnet\n",
    "\n",
    "nltk.download(\"stopwords\")\n",
    "nltk.download(\"wordnet\")\n",
    "\n",
    "# nltk.download(\"dpt\")"
   ]
  },
  {
   "cell_type": "code",
   "execution_count": 152,
   "metadata": {
    "collapsed": true
   },
   "outputs": [],
   "source": [
    "# Define function to remove proper nouns and numerics\n",
    "\n",
    "def remove_proper_nouns(sentence):\n",
    "    tagged_sentence = nltk.tag.pos_tag(sentence.split())\n",
    "    edited_sentence = [word for word,tag in tagged_sentence if tag != 'NNP' and tag != 'NNPS']\n",
    "    \n",
    "    return(' '.join(edited_sentence))"
   ]
  },
  {
   "cell_type": "code",
   "execution_count": 153,
   "metadata": {},
   "outputs": [],
   "source": [
    "# Remove proper nouns\n",
    "df['about2'] = df['about'].apply(remove_proper_nouns)"
   ]
  },
  {
   "cell_type": "code",
   "execution_count": 154,
   "metadata": {},
   "outputs": [
    {
     "data": {
      "text/html": [
       "<div>\n",
       "<style>\n",
       "    .dataframe thead tr:only-child th {\n",
       "        text-align: right;\n",
       "    }\n",
       "\n",
       "    .dataframe thead th {\n",
       "        text-align: left;\n",
       "    }\n",
       "\n",
       "    .dataframe tbody tr th {\n",
       "        vertical-align: top;\n",
       "    }\n",
       "</style>\n",
       "<table border=\"1\" class=\"dataframe\">\n",
       "  <thead>\n",
       "    <tr style=\"text-align: right;\">\n",
       "      <th></th>\n",
       "      <th>about</th>\n",
       "      <th>title</th>\n",
       "      <th>about2</th>\n",
       "    </tr>\n",
       "  </thead>\n",
       "  <tbody>\n",
       "    <tr>\n",
       "      <th>0</th>\n",
       "      <td>ASKPL (erstwhile KE Technical Textiles Pvt Ltd...</td>\n",
       "      <td>Amer-Sil Ketex Private Limited</td>\n",
       "      <td>incorporated in 1991, manufactures technical t...</td>\n",
       "    </tr>\n",
       "    <tr>\n",
       "      <th>1</th>\n",
       "      <td>Set up in 2016, AA is setting up a non-basmati...</td>\n",
       "      <td>Amrit Agro</td>\n",
       "      <td>up in 2016, is setting up a non-basmati parboi...</td>\n",
       "    </tr>\n",
       "    <tr>\n",
       "      <th>2</th>\n",
       "      <td>5 Core is part of the Five Core group, which m...</td>\n",
       "      <td>5 Core Acoustics Private Limited</td>\n",
       "      <td>5 Core is part of the group, which manufacture...</td>\n",
       "    </tr>\n",
       "    <tr>\n",
       "      <th>3</th>\n",
       "      <td>Incorporated in 1986 as Vora Packaging Private...</td>\n",
       "      <td>3D Technopack Limited</td>\n",
       "      <td>Incorporated in 1986 as was taken over by the ...</td>\n",
       "    </tr>\n",
       "    <tr>\n",
       "      <th>4</th>\n",
       "      <td>Established in May, 2015, 2Getherments Infra P...</td>\n",
       "      <td>2Getherments Infra Private Limited</td>\n",
       "      <td>Established in 2015, 2Getherments is engaged i...</td>\n",
       "    </tr>\n",
       "    <tr>\n",
       "      <th>5</th>\n",
       "      <td>Delhi-based JPP is a partnership firm set up i...</td>\n",
       "      <td>J P Polymers</td>\n",
       "      <td>Delhi-based is a partnership firm set up in 19...</td>\n",
       "    </tr>\n",
       "    <tr>\n",
       "      <th>6</th>\n",
       "      <td>JPRM was setup in 1994 as proprietorship conce...</td>\n",
       "      <td>J. P. Rice Mills - Fatehabad</td>\n",
       "      <td>was setup in 1994 as proprietorship concern of...</td>\n",
       "    </tr>\n",
       "    <tr>\n",
       "      <th>7</th>\n",
       "      <td>Incorporated in 1987 and promoted by Mr. Chand...</td>\n",
       "      <td>20 Microns Limited</td>\n",
       "      <td>Incorporated in 1987 and promoted by 20 manufa...</td>\n",
       "    </tr>\n",
       "    <tr>\n",
       "      <th>8</th>\n",
       "      <td>Incorporated in 1987 and promoted by Mr. Chand...</td>\n",
       "      <td>20 Microns Nano Minerals Limited</td>\n",
       "      <td>Incorporated in 1987 and promoted by 20 manufa...</td>\n",
       "    </tr>\n",
       "    <tr>\n",
       "      <th>9</th>\n",
       "      <td>Established in 2016, 70 Microns is a partnersh...</td>\n",
       "      <td>70 Microns</td>\n",
       "      <td>Established in 2016, 70 is a partnership firm ...</td>\n",
       "    </tr>\n",
       "    <tr>\n",
       "      <th>10</th>\n",
       "      <td>PRT, incorporated in June 2013, manufactures i...</td>\n",
       "      <td>P.R. Technoplast Private Limited</td>\n",
       "      <td>incorporated in 2013, manufactures injection-m...</td>\n",
       "    </tr>\n",
       "    <tr>\n",
       "      <th>11</th>\n",
       "      <td>Incorporated in 2000, SKCPL is promoted by Mr ...</td>\n",
       "      <td>Satyendra Kumar Construction Private Limited</td>\n",
       "      <td>Incorporated in 2000, is promoted by and under...</td>\n",
       "    </tr>\n",
       "    <tr>\n",
       "      <th>12</th>\n",
       "      <td>ASK was incorporated in 1988, by promoters, Mr...</td>\n",
       "      <td>A.A. Autotech Private Limited</td>\n",
       "      <td>was incorporated in 1988, by promoters, who wa...</td>\n",
       "    </tr>\n",
       "    <tr>\n",
       "      <th>13</th>\n",
       "      <td>ABPPL was incorporated in 2006, promoted by Mr...</td>\n",
       "      <td>A. B. Polypacks Private Limited</td>\n",
       "      <td>was incorporated in 2006, promoted by and his ...</td>\n",
       "    </tr>\n",
       "    <tr>\n",
       "      <th>14</th>\n",
       "      <td>Set up as a partnership concern in 2002, AKSIP...</td>\n",
       "      <td>A K Shivhare Infrastructure Private Limited</td>\n",
       "      <td>up as a partnership concern in 2002, was recon...</td>\n",
       "    </tr>\n",
       "    <tr>\n",
       "      <th>15</th>\n",
       "      <td>ART (formerly, ART Infra Solutions Pvt Ltd), e...</td>\n",
       "      <td>A.R. Thermosets Private Limited</td>\n",
       "      <td>established in 1991, manufactures and trades i...</td>\n",
       "    </tr>\n",
       "    <tr>\n",
       "      <th>16</th>\n",
       "      <td>ASCEPL was set up by Late Ajit Singh Chattha i...</td>\n",
       "      <td>A S Chattha Exim Private Limited</td>\n",
       "      <td>was set up by Late in 1958 as a proprietorship...</td>\n",
       "    </tr>\n",
       "    <tr>\n",
       "      <th>17</th>\n",
       "      <td>AJMP, incorporated in November 2013, is promot...</td>\n",
       "      <td>A and J Microns Private Limited</td>\n",
       "      <td>incorporated in 2013, is promoted by and The c...</td>\n",
       "    </tr>\n",
       "    <tr>\n",
       "      <th>18</th>\n",
       "      <td>A B Convention, incorporated in April 2014, is...</td>\n",
       "      <td>A B Convention</td>\n",
       "      <td>A incorporated in 2014, is engaged in hospital...</td>\n",
       "    </tr>\n",
       "    <tr>\n",
       "      <th>19</th>\n",
       "      <td>ABE was set up as a partnership firm in 2009, ...</td>\n",
       "      <td>A B Equipments</td>\n",
       "      <td>was set up as a partnership firm in 2009, by a...</td>\n",
       "    </tr>\n",
       "  </tbody>\n",
       "</table>\n",
       "</div>"
      ],
      "text/plain": [
       "                                                about  \\\n",
       "0   ASKPL (erstwhile KE Technical Textiles Pvt Ltd...   \n",
       "1   Set up in 2016, AA is setting up a non-basmati...   \n",
       "2   5 Core is part of the Five Core group, which m...   \n",
       "3   Incorporated in 1986 as Vora Packaging Private...   \n",
       "4   Established in May, 2015, 2Getherments Infra P...   \n",
       "5   Delhi-based JPP is a partnership firm set up i...   \n",
       "6   JPRM was setup in 1994 as proprietorship conce...   \n",
       "7   Incorporated in 1987 and promoted by Mr. Chand...   \n",
       "8   Incorporated in 1987 and promoted by Mr. Chand...   \n",
       "9   Established in 2016, 70 Microns is a partnersh...   \n",
       "10  PRT, incorporated in June 2013, manufactures i...   \n",
       "11  Incorporated in 2000, SKCPL is promoted by Mr ...   \n",
       "12  ASK was incorporated in 1988, by promoters, Mr...   \n",
       "13  ABPPL was incorporated in 2006, promoted by Mr...   \n",
       "14  Set up as a partnership concern in 2002, AKSIP...   \n",
       "15  ART (formerly, ART Infra Solutions Pvt Ltd), e...   \n",
       "16  ASCEPL was set up by Late Ajit Singh Chattha i...   \n",
       "17  AJMP, incorporated in November 2013, is promot...   \n",
       "18  A B Convention, incorporated in April 2014, is...   \n",
       "19  ABE was set up as a partnership firm in 2009, ...   \n",
       "\n",
       "                                            title  \\\n",
       "0                 Amer-Sil Ketex Private Limited    \n",
       "1                                     Amrit Agro    \n",
       "2               5 Core Acoustics Private Limited    \n",
       "3                          3D Technopack Limited    \n",
       "4             2Getherments Infra Private Limited    \n",
       "5                                   J P Polymers    \n",
       "6                   J. P. Rice Mills - Fatehabad    \n",
       "7                             20 Microns Limited    \n",
       "8               20 Microns Nano Minerals Limited    \n",
       "9                                     70 Microns    \n",
       "10              P.R. Technoplast Private Limited    \n",
       "11  Satyendra Kumar Construction Private Limited    \n",
       "12                 A.A. Autotech Private Limited    \n",
       "13               A. B. Polypacks Private Limited    \n",
       "14   A K Shivhare Infrastructure Private Limited    \n",
       "15               A.R. Thermosets Private Limited    \n",
       "16              A S Chattha Exim Private Limited    \n",
       "17               A and J Microns Private Limited    \n",
       "18                                 A B Convention   \n",
       "19                                A B Equipments    \n",
       "\n",
       "                                               about2  \n",
       "0   incorporated in 1991, manufactures technical t...  \n",
       "1   up in 2016, is setting up a non-basmati parboi...  \n",
       "2   5 Core is part of the group, which manufacture...  \n",
       "3   Incorporated in 1986 as was taken over by the ...  \n",
       "4   Established in 2015, 2Getherments is engaged i...  \n",
       "5   Delhi-based is a partnership firm set up in 19...  \n",
       "6   was setup in 1994 as proprietorship concern of...  \n",
       "7   Incorporated in 1987 and promoted by 20 manufa...  \n",
       "8   Incorporated in 1987 and promoted by 20 manufa...  \n",
       "9   Established in 2016, 70 is a partnership firm ...  \n",
       "10  incorporated in 2013, manufactures injection-m...  \n",
       "11  Incorporated in 2000, is promoted by and under...  \n",
       "12  was incorporated in 1988, by promoters, who wa...  \n",
       "13  was incorporated in 2006, promoted by and his ...  \n",
       "14  up as a partnership concern in 2002, was recon...  \n",
       "15  established in 1991, manufactures and trades i...  \n",
       "16  was set up by Late in 1958 as a proprietorship...  \n",
       "17  incorporated in 2013, is promoted by and The c...  \n",
       "18  A incorporated in 2014, is engaged in hospital...  \n",
       "19  was set up as a partnership firm in 2009, by a...  "
      ]
     },
     "execution_count": 154,
     "metadata": {},
     "output_type": "execute_result"
    }
   ],
   "source": [
    "df.head(20)"
   ]
  },
  {
   "cell_type": "code",
   "execution_count": 155,
   "metadata": {
    "collapsed": true
   },
   "outputs": [],
   "source": [
    "# compile 'about' of all companies in one list\n",
    "\n",
    "raw_corpus = df['about2'].tolist()"
   ]
  },
  {
   "cell_type": "code",
   "execution_count": 156,
   "metadata": {
    "scrolled": true
   },
   "outputs": [],
   "source": [
    "# remove stopwords, punctuations, numerics,lemmatizer (to get stem of a word e.g. stem for 'caring' is 'care')\n",
    "# remove numbers, but not words that contain numbers, and words with only one character\n",
    "\n",
    "stop = set(stopwords.words('english'))\n",
    "exclude = set(string.punctuation)\n",
    "lemma = WordNetLemmatizer()\n",
    "\n",
    "# add custom words to stop\n",
    "\n",
    "stop.update(('r','pvt','ltd','mr','sri', 'crore', 'lakhs', 'crores', 'lakh', 'net'\n",
    "             ,'visã','m','wife','promoted','company','private','limited','income'))\n",
    "# print(stop)\n",
    "\n",
    "# clean raw corpus\n",
    "\n",
    "def clean(doc):\n",
    "    stop_free = \" \".join([i for i in doc.lower().split() if i not in stop])\n",
    "    punc_free = ''.join(ch for ch in stop_free if ch not in exclude)\n",
    "#     num_free = \" \".join([token for token in punc_free.split() if not token.isnumeric()])\n",
    "    normalized = \" \".join(lemma.lemmatize(word) for word in punc_free.split())\n",
    "    return normalized\n",
    "\n",
    "# clean data\n",
    "\n",
    "processed_corpus = [clean(doc).split() for doc in raw_corpus] "
   ]
  },
  {
   "cell_type": "markdown",
   "metadata": {},
   "source": [
    "#### Preparing Document- Term matrix"
   ]
  },
  {
   "cell_type": "code",
   "execution_count": 157,
   "metadata": {
    "collapsed": true
   },
   "outputs": [],
   "source": [
    "# Creating the term dictionary of processed_corpus, where every unique term is assigned an index.\n",
    "\n",
    "dictionary = corpora.Dictionary(processed_corpus)"
   ]
  },
  {
   "cell_type": "code",
   "execution_count": 158,
   "metadata": {
    "collapsed": true
   },
   "outputs": [],
   "source": [
    "# Converting processed_corpus into Document Term Matrix using dictionary prepared above.\n",
    "\n",
    "doc_term_matrix = [dictionary.doc2bow(doc) for doc in processed_corpus]"
   ]
  },
  {
   "cell_type": "markdown",
   "metadata": {},
   "source": [
    "#### Running Latent Dirichlet Allocation (LDA)model\n",
    "\n",
    "uses matrix factorization"
   ]
  },
  {
   "cell_type": "code",
   "execution_count": 123,
   "metadata": {},
   "outputs": [],
   "source": [
    "# Creating the object for LDA model using gensim library\n",
    "Lda = gensim.models.ldamodel.LdaModel\n",
    "\n",
    "np.random.seed(1) # setting random seed to get the same results each time.\n",
    "\n",
    "# Running and Trainig LDA model on the document term matrix.\n",
    "ldamodel = Lda(doc_term_matrix, num_topics=50, id2word = dictionary, passes=50)"
   ]
  },
  {
   "cell_type": "code",
   "execution_count": 124,
   "metadata": {
    "collapsed": true
   },
   "outputs": [],
   "source": [
    "# save model to file\n",
    "\n",
    "pkl.dump(ldamodel, open('lda_model_50_wo_proper_noun.pkl', 'wb'))\n",
    "# pkl.dump(ldamodel, open('lda_model_50_wo_proper_noun_numerics.pkl', 'wb'))\n",
    "# pkl.dump(ldamodel, open('lda_model_100_wo_proper_noun_numerics.pkl', 'wb'))\n"
   ]
  },
  {
   "cell_type": "code",
   "execution_count": 159,
   "metadata": {},
   "outputs": [],
   "source": [
    "# load model\n",
    "\n",
    "ldamodel = pkl.load(open('lda_model_50_wo_proper_noun.pkl', 'rb'))\n",
    "# ldamodel = pkl.load(open('lda_model_100_wo_proper_noun_numerics.pkl', 'rb'))"
   ]
  },
  {
   "cell_type": "code",
   "execution_count": 160,
   "metadata": {},
   "outputs": [
    {
     "name": "stdout",
     "output_type": "stream",
     "text": [
      "[(0, '0.137*\"operation\" + 0.065*\"commenced\" + 0.059*\"incorporated\" + 0.050*\"commercial\" + 0.041*\"company\"'), (1, '0.032*\"asset\" + 0.024*\"bank\" + 0.022*\"interest\" + 0.020*\"total\" + 0.014*\"net\"')]\n"
     ]
    }
   ],
   "source": [
    "topics_prob = ldamodel.print_topics(num_topics=100, num_words=5)\n",
    "print(topics_prob[:2])"
   ]
  },
  {
   "cell_type": "code",
   "execution_count": 161,
   "metadata": {},
   "outputs": [],
   "source": [
    "topicid_keywords_map = {}\n",
    "for w in topics_prob:\n",
    "    topicid_keywords_map[w[0]] = [x.split('*')[1].replace(\"\\\"\",'').strip() for x in w[1].split('+')]"
   ]
  },
  {
   "cell_type": "code",
   "execution_count": 162,
   "metadata": {},
   "outputs": [
    {
     "data": {
      "text/plain": [
       "{0: ['operation', 'commenced', 'incorporated', 'commercial', 'company'],\n",
       " 1: ['asset', 'bank', 'interest', 'total', 'net'],\n",
       " 2: ['sheet', 'book', 'product', 'deal', 'variety'],\n",
       " 3: ['dealer', 'authorised', 'company', 'vehicle', 'incorporated'],\n",
       " 4: ['facility', '0', 'total', 'bank', 'million'],\n",
       " 5: ['school', 'run', 'society', 'surplus', 'agent'],\n",
       " 6: ['million', 'sale', 'profit', '201415', 'year'],\n",
       " 7: ['estate', 'project', 'real', 'residential', 'director'],\n",
       " 8: ['revenue', 'fiscal', '2015', 'profit', '2016'],\n",
       " 9: ['interest', 'net', 'product', 'expense', 'wheat'],\n",
       " 10: ['product', 'group', 'brand', 'food', 'operates'],\n",
       " 11: ['distributor', 'range', 'product', 'automobile', 'wide'],\n",
       " 12: ['income', 'fiscal', 'operating', 'profit', '2016'],\n",
       " 13: ['manufacture', 'chemical', 'pharmaceutical', 'company', 'manufacturing'],\n",
       " 14: ['one', 'district', 'rated', 'crisil', 'five'],\n",
       " 15: ['developing', 'education', 'develops', 'complex', 'land'],\n",
       " 16: ['cotton', 'seed', 'oil', 'family', 'unit'],\n",
       " 17: ['rice', 'process', 'mill', 'paddy', 'bran'],\n",
       " 18: ['billion', 'company', 'group', '2016', 'total'],\n",
       " 19: ['manufacture', 'yarn', 'fabric', 'garment', 'company'],\n",
       " 20: ['course', 'trust', 'management', 'offer', 'operates'],\n",
       " 21: ['product', 'manufacture', 'brand', 'company', 'good'],\n",
       " 22: ['rice', 'milling', 'capacity', 'basmati', 'process'],\n",
       " 23: ['service', 'provides', 'solution', 'maintenance', 'company'],\n",
       " 24: ['storage', 'cold', 'special', 'purpose', 'project'],\n",
       " 25: ['power', 'plant', 'project', 'solar', 'company'],\n",
       " 26: ['oil', 'edible', 'manufacture', 'group', 'cake'],\n",
       " 27: ['company', 'manufacturing', 'incorporated', 'family', 'manufacture'],\n",
       " 28: ['visa', 'vi', 'standalone', '16', '18'],\n",
       " 29: ['manufacture', 'box', 'diamond', 'railway', 'fitting'],\n",
       " 30: ['cr', 'sale', 'business', 'reported', 'involved'],\n",
       " 31: ['construction', 'undertakes', 'civil', 'work', 'firm'],\n",
       " 32: ['transformer', 'turnover', 'size', 'outlet', 'tyre'],\n",
       " 33: ['manufacture', 'component', 'company', 'equipment', 'manufacturing'],\n",
       " 34: ['mild', 'etc', 'transportation', 'like', 'structural'],\n",
       " 35: ['steel', 'pipe', 'product', 'wire', 'manufacture'],\n",
       " 36: ['total', 'count', '02', 'increased', '04'],\n",
       " 37: ['power', 'system', 'industry', 'line', 'gas'],\n",
       " 38: ['group', 'jewellery', 'retail', 'gold', 'entity'],\n",
       " 39: ['steel', 'manufacture', 'iron', 'product', 'bar'],\n",
       " 40: ['marketing', 'refinery', 'pipeline', '20000', 'research'],\n",
       " 41: ['fiscal', 'sale', '2016', 'profit', '2015'],\n",
       " 42: ['aastable', 'warehouse', 'known', 'formerly', '160'],\n",
       " 43: ['board', 'agricultural', '1980', '01', '005'],\n",
       " 44: ['company', 'limited', 'private', 'reconstituted', 'name'],\n",
       " 45: ['capacity', 'per', 'tonne', 'day', 'installed'],\n",
       " 46: ['system', 'cement', 'installation', 'fabrication', 'network'],\n",
       " 47: ['firm', 'partnership', 'proprietorship', 'established', 'set'],\n",
       " 48: ['compared', 'division', '2015', 'track', 'effect'],\n",
       " 49: ['aluminium', 'import', 'alloy', 'gujaratbased', 'includes']}"
      ]
     },
     "execution_count": 162,
     "metadata": {},
     "output_type": "execute_result"
    }
   ],
   "source": [
    "topicid_keywords_map"
   ]
  },
  {
   "cell_type": "code",
   "execution_count": 163,
   "metadata": {},
   "outputs": [],
   "source": [
    "# get topics for docs\n",
    "    \n",
    "# all_topics = ldamodel.get_document_topics(doc_term_matrix, per_word_topics=True)\n",
    "\n",
    "# for doc_topics, word_topics, phi_values in all_topics:\n",
    "#     print('New Document \\n')\n",
    "#     print ('Document topics:', ' '.join(d[doc_topics[0][0]]))\n",
    "# #     print ('Word topics:', word_topics)\n",
    "# #     print ('Phi values:', phi_values)\n",
    "#     print(\" \")\n",
    "#     print('-------------- \\n')"
   ]
  },
  {
   "cell_type": "code",
   "execution_count": 164,
   "metadata": {},
   "outputs": [
    {
     "name": "stdout",
     "output_type": "stream",
     "text": [
      "[(['company', 'manufacturing', 'incorporated', 'family', 'manufacture'], 0.46705792888585573), (['manufacture', 'yarn', 'fabric', 'garment', 'company'], 0.19453918443584528), (['marketing', 'refinery', 'pipeline', '20000', 'research'], 0.17692524891602737), (['company', 'limited', 'private', 'reconstituted', 'name'], 0.09070840699304146)]\n"
     ]
    }
   ],
   "source": [
    "# get topics for docs\n",
    "\n",
    "for doc in doc_term_matrix[:1]:\n",
    "    print([(topicid_keywords_map[x[0]],x[1]) for x in sorted(ldamodel.get_document_topics(doc), key=lambda x: x[1], reverse=True)])"
   ]
  },
  {
   "cell_type": "code",
   "execution_count": 165,
   "metadata": {},
   "outputs": [],
   "source": [
    "# print(ldamodel.get_document_topics(doc_term_matrix[0]))"
   ]
  },
  {
   "cell_type": "code",
   "execution_count": 166,
   "metadata": {
    "scrolled": false
   },
   "outputs": [
    {
     "name": "stdout",
     "output_type": "stream",
     "text": [
      "ASKPL (erstwhile KE Technical Textiles Pvt Ltd), incorporated in 1991, manufactures technical textiles from fiberglass, polyester, and other synthetic materials. Its operations are managed by Mr. Sukumar Roy and Yashwant Roy. Its facility is in Kharagpur, West Bengal.\n",
      "         \n",
      "['incorporated', '1991', 'manufacture', 'technical', 'textile', 'fiberglass', 'polyester', 'synthetic', 'material', 'operation', 'managed', 'facility']\n",
      "         \n",
      "(['company', 'manufacturing', 'incorporated', 'family', 'manufacture'], 0.46789333718377524)\n",
      "         \n",
      "---------\n",
      "         \n",
      "Set up in 2016, AA is setting up a non-basmati parboiled rice mill with capacity of 3 tph at Kurud, (Chhattisgarh). Operations are managed by Mrs. Hemeshwari Bhaghel and her husband, Mr Dharmendra Chandrakar. Production is expected to commence from April 2017.AA is expected to generate profit of Rs 3 lakh on revenue of Rs 11 crore in fiscal 2018.\n",
      "         \n",
      "['2016', 'setting', 'nonbasmati', 'parboiled', 'rice', 'mill', 'capacity', '3', 'tph', 'managed', 'husband', 'expected', 'commence', '2017aa', 'expected', 'generate', 'profit', '3', 'revenue', '11', 'fiscal', '2018']\n",
      "         \n",
      "(['rice', 'milling', 'capacity', 'basmati', 'process'], 0.34496295598171928)\n",
      "         \n",
      "---------\n",
      "         \n",
      "5 Core is part of the Five Core group, which manufactures electronic equipment, including public address (PA) systems, speakers, amplifiers, microphones, woofers, and electrical accessories. The products are sold under the brand, 5 Core, and exported to around 56 countries. Mr Amarjit Kalra and his family manage operations. 5 Core is a private limited company and has its unit at Bhiwadi, Rajasthan.Visual is a limited liability partnership (LLP) firm set up in 2008, with its manufacturing facility at Mundka, Delhi. EMS, also set up in 2008, is a partnership firm with its manufacturing facility at Kashipur, Uttarakhand. Neha is a proprietorship firm set up in 2009, and has a unit in Daruhera, Gurgaon. Incorporated in 2002, FCEL is a closely held public limited company with units in Delhi and Bhiwadi. Set up in 2010, 2011, and 2012, respectively, IAPL, Digi and Happy are private limited companies, with units at Noida, Bhiwadi and Delhi, respectively. 5 Core's net profit and sales increased to Rs 2.69 million and Rs 459.2 million, respectively, in fiscal 2016, from Rs 0.2 million and Rs 65.7 million, the previous fiscal.\n",
      "         \n",
      "['5', 'core', 'part', 'group', 'manufacture', 'electronic', 'equipment', 'including', 'public', 'address', 'system', 'speaker', 'amplifier', 'microphone', 'woofer', 'electrical', 'accessory', 'product', 'sold', 'brand', '5', 'exported', 'around', '56', 'country', 'family', 'manage', 'operation', '5', 'unit', 'liability', 'partnership', 'llp', 'firm', 'set', '2008', 'manufacturing', 'facility', 'also', 'set', '2008', 'partnership', 'firm', 'manufacturing', 'facility', 'proprietorship', 'firm', 'set', '2009', 'unit', '2002', 'closely', 'held', 'public', 'unit', '2010', '2011', '2012', 'respectively', 'company', 'unit', 'respectively', '5', 'profit', 'sale', 'increased', 'r', '269', 'million', '4592', 'million', 'respectively', 'fiscal', '2016', '02', 'million', '657', 'million', 'previous', 'fiscal']\n",
      "         \n",
      "(['cotton', 'seed', 'oil', 'family', 'unit'], 0.29047266147615647)\n",
      "         \n",
      "---------\n",
      "         \n",
      "Incorporated in 1986 as Vora Packaging Private Limited was taken over by the current promoters in FY2003 and name changed to 3D Technopack Limited (3D). The company is engaged in manufacturing of plastic tubes for various FMCG companies and has a manufacturing facility at Silvassa.\n",
      "         \n",
      "['incorporated', '1986', 'taken', 'current', 'promoter', 'name', 'changed', '3d', '3d', 'engaged', 'manufacturing', 'plastic', 'tube', 'various', 'company', 'manufacturing', 'facility']\n",
      "         \n",
      "(['company', 'limited', 'private', 'reconstituted', 'name'], 0.49392496294750265)\n",
      "         \n",
      "---------\n",
      "         \n",
      "Established in May, 2015, 2Getherments Infra Pvt Ltd (TIPL), is engaged in residential real estate construction business in Hyderabad, Telangana. The company has one on-going projects under the name '2Getherments'. The company is promoted and managed by Mr.Harinath Rao.\n",
      "         \n",
      "['established', '2015', '2getherments', 'engaged', 'residential', 'real', 'estate', 'construction', 'business', 'one', 'ongoing', 'project', 'name', '2getherments', 'managed']\n",
      "         \n",
      "(['estate', 'project', 'real', 'residential', 'director'], 0.4755531511623351)\n",
      "         \n",
      "---------\n",
      "         \n",
      "Delhi-based JPP is a partnership firm set up in 1982; it trades in polymers, primarily polyvinyl chloride resin. The firm's operations are being managed by Mr Abhishek Jindall and his father, Mr Ramesh Jindall.\n",
      "         \n",
      "['delhibased', 'partnership', 'firm', 'set', '1982', 'trade', 'polymer', 'primarily', 'polyvinyl', 'chloride', 'resin', 'firm', 'operation', 'managed', 'father']\n",
      "         \n",
      "(['firm', 'partnership', 'proprietorship', 'established', 'set'], 0.42816837487922271)\n",
      "         \n",
      "---------\n",
      "         \n",
      "JPRM was setup in 1994 as proprietorship concern of Mr. Naresh Bansal. The firm is engaged in milling of paddy into processed rice. It has an installed paddy milling and sorting capacity of 50 tonnes per day (tpd). Its rice mill is located in Fatehabad, Haryana.Profit after tax (PAT) was Rs 0.05 crore on an operating income of Rs 30.5 crore for fiscal 2016, against a PAT of Rs 0.05 crore on an operating income of Rs 21.6 crore for fiscal 2015.\n",
      "         \n",
      "['setup', '1994', 'proprietorship', 'concern', 'firm', 'engaged', 'milling', 'paddy', 'processed', 'rice', 'installed', 'paddy', 'milling', 'sorting', 'capacity', '50', 'tonne', 'per', 'day', 'tpd', 'rice', 'mill', 'located', 'tax', 'pat', '005', 'operating', '305', 'fiscal', '2016', '005', 'operating', '216', 'fiscal', '2015']\n",
      "         \n",
      "(['capacity', 'per', 'tonne', 'day', 'installed'], 0.2096175258003582)\n",
      "         \n",
      "---------\n",
      "         \n",
      "Incorporated in 1987 and promoted by Mr. Chandresh Parikh, 20 ML manufactures micronised minerals that are used as functional fillers and extenders in diverse industries such as paints, plastics, paper, adhesives, and ceramics. Product profile includes calcium carbonate, feldspar, China clay, talc, and specialty chemicals. The company is listed on the Bombay Stock Exchange and National Stock Exchange. NANO, incorporated in 1994, manufactures highly specialised minerals. 20 ML group, on a consolidated basis, reported a profit after tax (PAT) of Rs.10.98 crore on net sales of Rs.359.4 crore for fiscal 2016, vis-a-vis net loss of Rs.2.5 crore on net sales of Rs.357.8 crore in fiscal 2015. 20 ML, on a standalone basis, reported a PAT Rs.9.4 crore on net sales of Rs.200.1 crore during April-December 2016.\n",
      "         \n",
      "['incorporated', '1987', '20', 'manufacture', 'micronised', 'mineral', 'used', 'functional', 'filler', 'extenders', 'diverse', 'industry', 'paint', 'plastic', 'paper', 'adhesive', 'ceramic', 'profile', 'includes', 'calcium', 'carbonate', 'feldspar', 'clay', 'talc', 'specialty', 'chemical', 'listed', 'incorporated', '1994', 'manufacture', 'highly', 'specialised', 'mineral', '20', 'group', 'consolidated', 'basis', 'reported', 'profit', 'tax', 'pat', 'sale', 'fiscal', '2016', 'visavis', 'loss', 'sale', 'fiscal', '2015', '20', 'standalone', 'basis', 'reported', 'sale', '2016']\n",
      "         \n",
      "(['product', 'manufacture', 'brand', 'company', 'good'], 0.44851778041330431)\n",
      "         \n",
      "---------\n",
      "         \n",
      "Incorporated in 1987 and promoted by Mr. Chandresh Parikh, 20 ML manufactures micronised minerals that are used as functional fillers and extenders in diverse industries such as paints, plastics, paper, adhesives, and ceramics. Product profile includes calcium carbonate, feldspar, China clay, talc, and specialty chemicals. The company is listed on the Bombay Stock Exchange and National Stock Exchange. NANO, incorporated in 1994, manufactures highly specialised minerals. 20 ML group, on a consolidated basis, reported a profit after tax (PAT) of Rs.10.98 crore on net sales of Rs.359.4 crore for fiscal 2016, vis-a-vis net loss of Rs.2.5 crore on net sales of Rs.357.8 crore in fiscal 2015. 20 ML, on a standalone basis, reported a PAT Rs.9.4 crore on net sales of Rs.200.1 crore during April-December 2016.\n",
      "         \n",
      "['incorporated', '1987', '20', 'manufacture', 'micronised', 'mineral', 'used', 'functional', 'filler', 'extenders', 'diverse', 'industry', 'paint', 'plastic', 'paper', 'adhesive', 'ceramic', 'profile', 'includes', 'calcium', 'carbonate', 'feldspar', 'clay', 'talc', 'specialty', 'chemical', 'listed', 'incorporated', '1994', 'manufacture', 'highly', 'specialised', 'mineral', '20', 'group', 'consolidated', 'basis', 'reported', 'profit', 'tax', 'pat', 'sale', 'fiscal', '2016', 'visavis', 'loss', 'sale', 'fiscal', '2015', '20', 'standalone', 'basis', 'reported', 'sale', '2016']\n",
      "         \n",
      "(['product', 'manufacture', 'brand', 'company', 'good'], 0.4485265388943383)\n",
      "         \n",
      "---------\n",
      "         \n",
      "Established in 2016, 70 Microns is a partnership firm which is setting up a greenfield project for manufacturing and purifying of soda and potash feldspar, mainly used in the ceramic industry. Its manufacturing unit will be located at Wankaner taluka in the Morbi district of Gujarat.\n",
      "         \n",
      "['established', '2016', '70', 'partnership', 'firm', 'setting', 'greenfield', 'project', 'manufacturing', 'purifying', 'soda', 'potash', 'feldspar', 'mainly', 'used', 'ceramic', 'industry', 'manufacturing', 'unit', 'located', 'taluka', 'district']\n",
      "         \n",
      "(['distributor', 'range', 'product', 'automobile', 'wide'], 0.24391457585956924)\n",
      "         \n",
      "---------\n",
      "         \n"
     ]
    }
   ],
   "source": [
    "# get topics for docs\n",
    "\n",
    "for idx, doc in enumerate(doc_term_matrix[:10]):\n",
    "    print(df.iloc[idx]['about'])\n",
    "    print('         ')\n",
    "    print(processed_corpus[idx])\n",
    "    print('         ')\n",
    "    print([(topicid_keywords_map[x[0]],x[1]) for x in sorted(ldamodel[doc], key=lambda x: x[1], reverse=True)][0])\n",
    "    print('         ')\n",
    "    print('---------')\n",
    "    print('         ')"
   ]
  },
  {
   "cell_type": "code",
   "execution_count": null,
   "metadata": {
    "collapsed": true
   },
   "outputs": [],
   "source": []
  }
 ],
 "metadata": {
  "kernelspec": {
   "display_name": "Python 3",
   "language": "python",
   "name": "python3"
  },
  "language_info": {
   "codemirror_mode": {
    "name": "ipython",
    "version": 3
   },
   "file_extension": ".py",
   "mimetype": "text/x-python",
   "name": "python",
   "nbconvert_exporter": "python",
   "pygments_lexer": "ipython3",
   "version": "3.5.2"
  }
 },
 "nbformat": 4,
 "nbformat_minor": 2
}
